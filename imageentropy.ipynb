{
 "cells": [
  {
   "cell_type": "code",
   "execution_count": 10,
   "id": "917f0a6a",
   "metadata": {},
   "outputs": [],
   "source": [
    "import skimage.measure\n",
    "from PIL import Image\n",
    "from pathlib import Path"
   ]
  },
  {
   "cell_type": "code",
   "execution_count": 11,
   "id": "70ed4084",
   "metadata": {},
   "outputs": [],
   "source": [
    "def load_image(path_or_pil):\n",
    "    \"\"\"Return a PIL.Image in RGB mode.\"\"\"\n",
    "    if isinstance(path_or_pil, Image.Image):\n",
    "        img = path_or_pil.convert('RGB')\n",
    "    else:\n",
    "        img = Image.open(Path(path_or_pil)).convert('RGB')\n",
    "    return img"
   ]
  },
  {
   "cell_type": "code",
   "execution_count": 18,
   "id": "9b2cfca1",
   "metadata": {},
   "outputs": [
    {
     "name": "stdout",
     "output_type": "stream",
     "text": [
      "7.71598942475648\n",
      "7.740661921953363\n"
     ]
    }
   ],
   "source": [
    "img1 = load_image(\"examples/input/bee-movie.png\")\n",
    "img2 = load_image(\"examples/output/bee_np.png\")\n",
    "\n",
    "entropy1 = skimage.measure.shannon_entropy(img1)\n",
    "print(entropy1)\n",
    "entropy2 = skimage.measure.shannon_entropy(img2)\n",
    "print(entropy2)"
   ]
  }
 ],
 "metadata": {
  "kernelspec": {
   "display_name": "Python 3",
   "language": "python",
   "name": "python3"
  },
  "language_info": {
   "codemirror_mode": {
    "name": "ipython",
    "version": 3
   },
   "file_extension": ".py",
   "mimetype": "text/x-python",
   "name": "python",
   "nbconvert_exporter": "python",
   "pygments_lexer": "ipython3",
   "version": "3.12.3"
  }
 },
 "nbformat": 4,
 "nbformat_minor": 5
}
